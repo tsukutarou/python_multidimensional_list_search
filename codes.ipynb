{
 "cells": [
  {
   "cell_type": "markdown",
   "metadata": {},
   "source": [
    "# Codes of \"python_multidimensional_list_search\"\n",
    "\n",
    "python_multidimensional_list_search リポジトリの動作確認ができるノートブックです。\n",
    "\n",
    "詳細は[]()参照。"
   ]
  },
  {
   "cell_type": "code",
   "execution_count": 1,
   "metadata": {},
   "outputs": [],
   "source": [
    "import collections\n",
    "import numpy as np\n",
    "\n",
    "from typing import Union"
   ]
  },
  {
   "cell_type": "markdown",
   "metadata": {},
   "source": [
    "## ヘルパー関数\n",
    "\n",
    "計算に必要なもろもろの関数"
   ]
  },
  {
   "cell_type": "code",
   "execution_count": 2,
   "metadata": {},
   "outputs": [],
   "source": [
    "# リストのネストの深さを求める関数\n",
    "def nest_depth(item:Union[tuple,list,np.ndarray]):\n",
    "\n",
    "     if not item:\n",
    "         return 0\n",
    "     else:\n",
    "         if isinstance(item, (tuple,list,np.ndarray)):\n",
    "             return max([nest_depth(i) for i in item]) + 1\n",
    "         else:\n",
    "             return 0\n",
    "\n",
    "\n",
    "# リストを決められた回数だけ平坦化する関数\n",
    "def flatten(input_list, flatten_num:int):\n",
    "\n",
    "     flatten_num = flatten_num - 1\n",
    "\n",
    "     if flatten_num < 0:\n",
    "         for item in input_list:\n",
    "             yield item\n",
    "     else:\n",
    "         for item in input_list:\n",
    "             if isinstance(item, collections.abc.Iterable) and not isinstance(item, (str, bytes)):\n",
    "                 yield from flatten(item, flatten_num)\n",
    "             else:\n",
    "                 yield item\n",
    "\n",
    "\n",
    "# 不規則な次元を含んだ多次元リストかどうかをチェックする関数\n",
    "def isirregular(input_list):\n",
    "     \n",
    "     flatten_num = nest_depth(input_list) - 2\n",
    "\n",
    "     flattened_list = list(flatten(input_list, flatten_num))\n",
    "\n",
    "     return not len(list(set([nest_depth(item) for item in flattened_list]))) == 1"
   ]
  },
  {
   "cell_type": "markdown",
   "metadata": {},
   "source": [
    "## ヘルパー関数の動作確認\n",
    "\n",
    "上で定義したヘルパー関数のテスト"
   ]
  },
  {
   "cell_type": "code",
   "execution_count": 10,
   "metadata": {},
   "outputs": [
    {
     "name": "stdout",
     "output_type": "stream",
     "text": [
      "2 False\n",
      "3 False\n",
      "2 True\n",
      "3 True\n"
     ]
    }
   ],
   "source": [
    "# 4種類の配列でテスト\n",
    "list1 = [[1,2,3],[2,3,4],[3,4,5]]  # 2次元, 不規則次元なし\n",
    "list2 = [[[11,12,13],[1,15,16],[17,18,1]],[[11,12,13],[11,1,13],[11,12,13]]]  # 3次元, 不規則次元なし\n",
    "list3 = [1,2,3,[4,5,6]] # 2次元, 不規則次元あり\n",
    "list4 = [[[1,2,3],[4,5,6],[7,8,9]],[1,2,3],[1,2,3],[11,12,13,[14,15,16]]]  # 3次元, 不規則次元あり\n",
    "\n",
    "# テストの実行\n",
    "print(nest_depth(list1),isirregular(list1))  # 2, False ならOK\n",
    "print(nest_depth(list2),isirregular(list2))  # 3, False ならOK\n",
    "print(nest_depth(list3),isirregular(list3))  # 2, True ならOK\n",
    "print(nest_depth(list4),isirregular(list4))  # 3, True ならOK"
   ]
  },
  {
   "cell_type": "markdown",
   "metadata": {},
   "source": [
    "## 多次元のリストから任意の要素について検索してインデックスを調べる\n",
    "\n",
    "調べたい要素はタプルやリストの形で複数渡すことが可能。\n",
    "\n",
    "複数渡した場合、第3引数について`contain_all = True`とすると、複数要素を**全て含む要素のインデックス**を返す。デフォルトでは一つでも一致する要素のインデックスを返す。"
   ]
  },
  {
   "cell_type": "code",
   "execution_count": 5,
   "metadata": {},
   "outputs": [],
   "source": [
    "def multidimension_search(\n",
    "                             input_list:Union[tuple,list,np.ndarray],\n",
    "                             query:Union[int,str,tuple,list,np.ndarray],\n",
    "                             contains_all=False\n",
    "                         ):\n",
    "                        \n",
    "     if isirregular(input_list):\n",
    "         print(\"An irregular dimensional list cannot be saerchable.\")\n",
    "         return\n",
    "     \n",
    "     if isinstance(query, (int, str)):\n",
    "         query = [query]\n",
    "     \n",
    "     if nest_depth(input_list) > 2:\n",
    "         return [multidimension_search(sublist,query,contains_all) for sublist in input_list]\n",
    "\n",
    "     if contains_all:\n",
    "         return [i for i,l in enumerate(input_list) if all(map(lambda x:x in l, query))]\n",
    "     else:\n",
    "         return [i for i,l in enumerate(input_list) if any(map(lambda x:x in l, query))]"
   ]
  },
  {
   "cell_type": "markdown",
   "metadata": {},
   "source": [
    "## 多次元のリストから任意の要素について検索してインデックスを調べる実行例\n",
    "\n",
    "list1~4は先のテストと同じ。"
   ]
  },
  {
   "cell_type": "code",
   "execution_count": 17,
   "metadata": {},
   "outputs": [],
   "source": [
    "# 4種類の配列でテスト\n",
    "list1 = [[1,2,3],[2,3,4],[3,4,5]]\n",
    "list2 = [[[11,12,13],[1,15,16],[17,18,1]],[[11,12,13],[11,1,13],[11,12,13]]]\n",
    "list3 = [1,2,3,[4,5,6]]\n",
    "list4 = [[[1,2,3],[4,5,6],[7,8,9]],[1,2,3],[1,2,3],[11,12,13,[14,15,16]]]\n",
    "\n",
    "# [1,2]を含むかどうか調べる\n",
    "query = [1,2]"
   ]
  },
  {
   "cell_type": "code",
   "execution_count": 18,
   "metadata": {},
   "outputs": [
    {
     "name": "stdout",
     "output_type": "stream",
     "text": [
      "[0, 1]\n",
      "[[1, 2], [1]]\n",
      "An irregular dimensional list cannot be saerchable.\n",
      "None\n",
      "An irregular dimensional list cannot be saerchable.\n",
      "None\n"
     ]
    }
   ],
   "source": [
    "# [1,2]のどちらか一方でも入っているか調べる例\n",
    "print(multidimension_search(list1, query, contains_all=False))  # [0, 1]\n",
    "print(multidimension_search(list2, query, contains_all=False))  # [[1, 2], [1]]\n",
    "print(multidimension_search(list3, query, contains_all=False))  # エラーメッセージ + None\n",
    "print(multidimension_search(list4, query, contains_all=False))  # エラーメッセージ + None"
   ]
  },
  {
   "cell_type": "code",
   "execution_count": 19,
   "metadata": {},
   "outputs": [
    {
     "name": "stdout",
     "output_type": "stream",
     "text": [
      "[0]\n",
      "[[], []]\n",
      "An irregular dimensional list cannot be saerchable.\n",
      "None\n",
      "An irregular dimensional list cannot be saerchable.\n",
      "None\n"
     ]
    }
   ],
   "source": [
    "# [1,2]の全てが入っているか調べる例\n",
    "print(multidimension_search(list1, query, contains_all=True))  # [0]\n",
    "print(multidimension_search(list2, query, contains_all=True))  # [[], []]\n",
    "print(multidimension_search(list3, query, contains_all=True))  # エラーメッセージ + None\n",
    "print(multidimension_search(list4, query, contains_all=True))  # エラーメッセージ + None"
   ]
  },
  {
   "cell_type": "markdown",
   "metadata": {},
   "source": [
    "## 文字列についても確認"
   ]
  },
  {
   "cell_type": "code",
   "execution_count": 20,
   "metadata": {},
   "outputs": [],
   "source": [
    "# 以下の4種でテスト\n",
    "string_list1 = [[\"aaa\",\"bbb\",\"ccc\"],[\"aaa\",\"bbb\",\"ccc\"],[\"aaa\",\"bbb\",\"ccc\"]]\n",
    "string_list2 = [[\"aaa\",\"aaa\",\"aaa\"],[\"bbb\",\"bbb\",\"bbb\"],[\"ccc\",\"ccc\",\"ccc\"]]\n",
    "string_list3 = [[[\"aaaa\",\"aaaa\",\"aaaa\"],[\"bbbb\",\"bbbb\",\"bbbb\"]],[[\"bbb\",\"bbb\"],[\"cccc\",\"cccc\"]]]\n",
    "string_list4 = [[[\"abc\",\"xyz\"],[\"aaa\",\"bbb\",\"ccc\"]],[[\"aaa\",\"xyz\"],[\"abc\",\"abc\",\"abc\"]]]\n",
    "\n",
    "# \"aaa\",\"bbb\",\"ccc\"について、含まれているインデックスを検索\n",
    "string_query = [\"aaa\",\"bbb\",\"ccc\"]"
   ]
  },
  {
   "cell_type": "code",
   "execution_count": 24,
   "metadata": {},
   "outputs": [
    {
     "name": "stdout",
     "output_type": "stream",
     "text": [
      "[0, 1, 2]\n",
      "[0, 1, 2]\n",
      "[[], [0]]\n",
      "[[1], [0]]\n"
     ]
    }
   ],
   "source": [
    "# \"aaa\",\"bbb\",\"ccc\"のどちらか一方でも入っているか調べる例\n",
    "print(multidimension_search(string_list1, string_query, contains_all=False))  # [0, 1, 2]\n",
    "print(multidimension_search(string_list2, string_query, contains_all=False))  # [0, 1, 2]\n",
    "print(multidimension_search(string_list3, string_query, contains_all=False))  # [[], [0]]\n",
    "print(multidimension_search(string_list4, string_query, contains_all=False))  # [[1], [0]]"
   ]
  },
  {
   "cell_type": "code",
   "execution_count": 23,
   "metadata": {},
   "outputs": [
    {
     "name": "stdout",
     "output_type": "stream",
     "text": [
      "[0, 1, 2]\n",
      "[]\n",
      "[[], []]\n",
      "[[1], []]\n"
     ]
    }
   ],
   "source": [
    "# \"aaa\",\"bbb\",\"ccc\"の全てが入っているか調べる例\n",
    "print(multidimension_search(string_list1, string_query, contains_all=True))  # [0, 1, 2]\n",
    "print(multidimension_search(string_list2, string_query, contains_all=True))  # []\n",
    "print(multidimension_search(string_list3, string_query, contains_all=True))  # [[], []]\n",
    "print(multidimension_search(string_list4, string_query, contains_all=True))  # [[1], []]"
   ]
  }
 ],
 "metadata": {
  "kernelspec": {
   "display_name": "Python 3.8.8 ('domekan')",
   "language": "python",
   "name": "python3"
  },
  "language_info": {
   "codemirror_mode": {
    "name": "ipython",
    "version": 3
   },
   "file_extension": ".py",
   "mimetype": "text/x-python",
   "name": "python",
   "nbconvert_exporter": "python",
   "pygments_lexer": "ipython3",
   "version": "3.8.15"
  },
  "orig_nbformat": 4,
  "vscode": {
   "interpreter": {
    "hash": "e09fecd661e0a26d03547e09be1b03188faeb99673f625e319c2d834d18e45cd"
   }
  }
 },
 "nbformat": 4,
 "nbformat_minor": 2
}
